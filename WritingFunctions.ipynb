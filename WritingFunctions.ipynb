{
 "cells": [
  {
   "cell_type": "code",
   "execution_count": 6,
   "metadata": {},
   "outputs": [
    {
     "name": "stdout",
     "output_type": "stream",
     "text": [
      "This is outside the function\n"
     ]
    }
   ],
   "source": [
    "# Function is a collection of instructions\n",
    "# or a collection of code\n",
    "def myLibrary1():\n",
    "    print(\"Hey 1\")\n",
    "    print(\"hey 2\")\n",
    "print(\"This is outside the function\")"
   ]
  },
  {
   "cell_type": "code",
   "execution_count": 7,
   "metadata": {},
   "outputs": [
    {
     "name": "stdout",
     "output_type": "stream",
     "text": [
      "Hey 1\n",
      "hey 2\n"
     ]
    }
   ],
   "source": [
    "myLibrary1()"
   ]
  },
  {
   "cell_type": "code",
   "execution_count": 8,
   "metadata": {},
   "outputs": [
    {
     "name": "stdout",
     "output_type": "stream",
     "text": [
      "Hey 1\n",
      "hey 2\n",
      "Hey 1\n",
      "hey 2\n"
     ]
    }
   ],
   "source": [
    "myLibrary1()\n",
    "myLibrary1()"
   ]
  },
  {
   "cell_type": "code",
   "execution_count": 9,
   "metadata": {},
   "outputs": [],
   "source": [
    "# Using maping\n",
    "# takes input, signature or an argument\n",
    "def myLibrary1(x):\n",
    "    return 2*x\n",
    "\n"
   ]
  },
  {
   "cell_type": "code",
   "execution_count": 10,
   "metadata": {},
   "outputs": [],
   "source": [
    "a = myLibrary1(2)"
   ]
  },
  {
   "cell_type": "code",
   "execution_count": 11,
   "metadata": {},
   "outputs": [
    {
     "name": "stdout",
     "output_type": "stream",
     "text": [
      "4\n"
     ]
    }
   ],
   "source": [
    "print(a)"
   ]
  },
  {
   "cell_type": "code",
   "execution_count": 12,
   "metadata": {},
   "outputs": [],
   "source": [
    "#a is return value or output\n",
    "b = myLibrary1(4)"
   ]
  },
  {
   "cell_type": "code",
   "execution_count": 13,
   "metadata": {},
   "outputs": [
    {
     "name": "stdout",
     "output_type": "stream",
     "text": [
      "8\n"
     ]
    }
   ],
   "source": [
    "print(b)"
   ]
  },
  {
   "cell_type": "code",
   "execution_count": 15,
   "metadata": {},
   "outputs": [
    {
     "name": "stdout",
     "output_type": "stream",
     "text": [
      "9\n"
     ]
    }
   ],
   "source": [
    "def myLibrary1(x,y):\n",
    "    return x + y\n",
    "c = myLibrary1(4,5)\n",
    "print(c)"
   ]
  },
  {
   "cell_type": "code",
   "execution_count": 27,
   "metadata": {},
   "outputs": [],
   "source": [
    "def myLibrary1(x):\n",
    "    print(4)\n",
    "    print(\"I had good day\")\n",
    "    return 3 * x\n",
    "    \n",
    "    \n",
    "    "
   ]
  },
  {
   "cell_type": "code",
   "execution_count": 28,
   "metadata": {},
   "outputs": [
    {
     "name": "stdout",
     "output_type": "stream",
     "text": [
      "4\n",
      "I had good day\n",
      "12\n"
     ]
    }
   ],
   "source": [
    "f = myLibrary1(4)\n",
    "\n",
    "print(f)"
   ]
  },
  {
   "cell_type": "code",
   "execution_count": null,
   "metadata": {},
   "outputs": [],
   "source": [
    "# Note when return statement leads it terminates the other instructions following"
   ]
  },
  {
   "cell_type": "code",
   "execution_count": 50,
   "metadata": {},
   "outputs": [],
   "source": [
    "def myLibrary1(some_argument):\n",
    "    print(\"This is me\")\n",
    "    print(some_argument)\n",
    "    return (4-(2*some_argument))**3/2"
   ]
  },
  {
   "cell_type": "code",
   "execution_count": 51,
   "metadata": {},
   "outputs": [
    {
     "name": "stdout",
     "output_type": "stream",
     "text": [
      "This is me\n",
      "7\n"
     ]
    }
   ],
   "source": [
    "q = myLibrary1(7)"
   ]
  },
  {
   "cell_type": "code",
   "execution_count": 52,
   "metadata": {},
   "outputs": [
    {
     "name": "stdout",
     "output_type": "stream",
     "text": [
      "-500.0\n"
     ]
    }
   ],
   "source": [
    "print(q)"
   ]
  },
  {
   "cell_type": "code",
   "execution_count": 56,
   "metadata": {},
   "outputs": [],
   "source": [
    "def myLibrary1(some_argument2):\n",
    "    print(some_argument2)\n",
    "    print(\"hey hooow\")"
   ]
  },
  {
   "cell_type": "code",
   "execution_count": 57,
   "metadata": {},
   "outputs": [
    {
     "name": "stdout",
     "output_type": "stream",
     "text": [
      "13\n",
      "hey hooow\n"
     ]
    }
   ],
   "source": [
    "#Since there is no return statement we call the function on initial run\n",
    "myLibrary1(13)"
   ]
  },
  {
   "cell_type": "code",
   "execution_count": 58,
   "metadata": {},
   "outputs": [],
   "source": [
    "# BM1 Calculator 2 - With Functions\n",
    "name1 = \"NN\"\n",
    "weight1_kg = 65\n",
    "height1_m = 1.65\n",
    "\n",
    "name2 = \"NN's in-law\"\n",
    "weight2_kg = 178\n",
    "height2_m = 1.9\n",
    "\n",
    "name3 = \"NN's girl friend\"\n",
    "weight3_kg = 290\n",
    "height3_m = 1.8\n",
    "\n"
   ]
  },
  {
   "cell_type": "code",
   "execution_count": 59,
   "metadata": {},
   "outputs": [],
   "source": [
    "def bmi_calculator(name, height_m, weight_kg):\n",
    "    bmi = weight_kg/(height_m ** 2)\n",
    "    print(\" bmi\")\n",
    "    print(bmi)\n",
    "    if bmi < 25:\n",
    "        return name + \" not over weight\"\n",
    "    else:\n",
    "        return name + \"is not over weight\"\n",
    "\n",
    "\n"
   ]
  },
  {
   "cell_type": "code",
   "execution_count": 60,
   "metadata": {},
   "outputs": [
    {
     "name": "stdout",
     "output_type": "stream",
     "text": [
      " bmi\n",
      "23.875114784205696\n",
      " bmi\n",
      "49.307479224376735\n",
      " bmi\n",
      "89.50617283950616\n"
     ]
    }
   ],
   "source": [
    "result1 = bmi_calculator(name1, height1_m, weight1_kg)\n",
    "result2 = bmi_calculator(name2, height2_m, weight2_kg)\n",
    "result3 = bmi_calculator(name3, height3_m, weight3_kg)"
   ]
  },
  {
   "cell_type": "code",
   "execution_count": 61,
   "metadata": {},
   "outputs": [],
   "source": [
    "#  TODO: name1, name2 ...., weight1_kg, weight2_kg .. , height1_m, height2_m ...to be injected from API."
   ]
  },
  {
   "cell_type": "code",
   "execution_count": 62,
   "metadata": {},
   "outputs": [],
   "source": [
    "# Exercise: Write a program that converts miles to kilometers. Use the Helper expression below\n",
    "# km = convert(miles)  \n",
    "# km = 1.6 * miles"
   ]
  },
  {
   "cell_type": "code",
   "execution_count": null,
   "metadata": {},
   "outputs": [],
   "source": []
  }
 ],
 "metadata": {
  "kernelspec": {
   "display_name": "Python 3",
   "language": "python",
   "name": "python3"
  },
  "language_info": {
   "codemirror_mode": {
    "name": "ipython",
    "version": 3
   },
   "file_extension": ".py",
   "mimetype": "text/x-python",
   "name": "python",
   "nbconvert_exporter": "python",
   "pygments_lexer": "ipython3",
   "version": "3.7.3"
  }
 },
 "nbformat": 4,
 "nbformat_minor": 2
}
